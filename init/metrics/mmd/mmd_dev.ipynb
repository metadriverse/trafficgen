{
 "cells": [
  {
   "cell_type": "code",
   "execution_count": 8,
   "metadata": {
    "pycharm": {
     "name": "#%%\n"
    }
   },
   "outputs": [],
   "source": [
    "import numpy as np\n",
    "import torch"
   ]
  },
  {
   "cell_type": "code",
   "execution_count": 22,
   "metadata": {
    "pycharm": {
     "name": "#%%\n"
    }
   },
   "outputs": [],
   "source": [
    "from torchmetrics import Metric\n",
    "\n",
    "class MMD(Metric):\n",
    "    full_state_update: bool = False\n",
    "\n",
    "    def __init__(self, kernel_mul = 2.0, kernel_num = 5):\n",
    "        super().__init__(full_state_update=False)\n",
    "\n",
    "        self.add_state(\"mmd_sum\", default=torch.tensor(0.0), dist_reduce_fx=\"sum\")\n",
    "        self.add_state(\"count\", default=torch.tensor(0), dist_reduce_fx=\"sum\")\n",
    "\n",
    "        self.kernel_num = kernel_num\n",
    "        self.kernel_mul = kernel_mul\n",
    "        self.fix_sigma = None\n",
    "\n",
    "    def guassian_kernel(self, source, target, kernel_mul=2.0, kernel_num=5, fix_sigma=None):\n",
    "        n_samples = int(source.size()[0])+int(target.size()[0])\n",
    "        total = torch.cat([source, target], dim=0)\n",
    "\n",
    "        total0 = total.unsqueeze(0).expand(int(total.size(0)), int(total.size(0)), int(total.size(1)))\n",
    "        total1 = total.unsqueeze(1).expand(int(total.size(0)), int(total.size(0)), int(total.size(1)))\n",
    "        L2_distance = ((total0-total1)**2).sum(2) \n",
    "        if fix_sigma:\n",
    "            bandwidth = fix_sigma\n",
    "        else:\n",
    "            bandwidth = torch.sum(L2_distance.data) / (n_samples**2-n_samples)\n",
    "        bandwidth /= kernel_mul ** (kernel_num // 2)\n",
    "        bandwidth_list = [bandwidth * (kernel_mul**i) for i in range(kernel_num)]\n",
    "        kernel_val = [torch.exp(-L2_distance / bandwidth_temp) for bandwidth_temp in bandwidth_list]\n",
    "        return sum(kernel_val)\n",
    "\n",
    "    def update(self, source, target):\n",
    "        batch_size = int(source.size()[0])\n",
    "        kernels = self.guassian_kernel(source, target, kernel_mul=self.kernel_mul, kernel_num=self.kernel_num, fix_sigma=self.fix_sigma)\n",
    "        XX = kernels[:batch_size, :batch_size]\n",
    "        YY = kernels[batch_size:, batch_size:]\n",
    "        XY = kernels[:batch_size, batch_size:]\n",
    "        YX = kernels[batch_size:, :batch_size]\n",
    "        mmd_score = torch.mean(XX + YY - XY -YX)\n",
    "\n",
    "        self.mmd_sum += mmd_score\n",
    "        self.count += 1\n",
    "    \n",
    "    def compute(self):\n",
    "        return self.mmd_sum / self.count"
   ]
  },
  {
   "cell_type": "code",
   "execution_count": 43,
   "metadata": {
    "pycharm": {
     "name": "#%%\n"
    }
   },
   "outputs": [
    {
     "name": "stdout",
     "output_type": "stream",
     "text": [
      "averaged MMD for heading: 0.37299033999443054\n",
      "averaged MMD for size: 0.35561874508857727\n",
      "averaged MMD for speed: 0.38694530725479126\n"
     ]
    }
   ],
   "source": [
    "heading_mmd = MMD(kernel_mul=1.0, kernel_num=1)\n",
    "size_mmd = MMD(kernel_mul=1.0, kernel_num=1)\n",
    "speed_mmd = MMD(kernel_mul=1.0, kernel_num=1)\n",
    "\n",
    "mmd_metrics = {'heading': MMD(kernel_mul=1.0, kernel_num=1),\n",
    "               'size': MMD(kernel_mul=1.0, kernel_num=1),\n",
    "               'speed': MMD(kernel_mul=1.0, kernel_num=1)}\n",
    "\n",
    "dims = {'heading': 2, 'size': 2, 'speed': 2}\n",
    "\n",
    "# iterate over all the real scenes in the dataset (or sampled dataset)\n",
    "for i in range(100):\n",
    "  \n",
    "  # number of samples for each scene\n",
    "  N = np.random.randint(0, 10)\n",
    "  \n",
    "  for attr, dim in dims.items():\n",
    "    \n",
    "    # ignore empty scenes\n",
    "    if N == 0:\n",
    "      continue\n",
    "\n",
    "    # obtain samples from real data\n",
    "    source = torch.randn(N, dim)\n",
    "    \n",
    "    # generate samples from model\n",
    "    target = torch.randn(N, dim)\n",
    "    \n",
    "    # update metric\n",
    "    mmd_metrics[attr].update(source, target)\n",
    "\n",
    "for attr, metric in mmd_metrics.items():\n",
    "  print('averaged MMD for {}: {}'.format(attr, metric.compute()))"
   ]
  }
 ],
 "metadata": {
  "kernelspec": {
   "display_name": "Python 3.8.11 ('base')",
   "language": "python",
   "name": "python3"
  },
  "language_info": {
   "codemirror_mode": {
    "name": "ipython",
    "version": 3
   },
   "file_extension": ".py",
   "mimetype": "text/x-python",
   "name": "python",
   "nbconvert_exporter": "python",
   "pygments_lexer": "ipython3",
   "version": "3.8.13"
  },
  "orig_nbformat": 4,
  "vscode": {
   "interpreter": {
    "hash": "28a7d50f3431aa44fe1bf798e6b2b641ab15759595cea8cf12616b54aa80ade3"
   }
  }
 },
 "nbformat": 4,
 "nbformat_minor": 2
}
