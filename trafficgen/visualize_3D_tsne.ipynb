{
 "cells": [
  {
   "cell_type": "code",
   "execution_count": 3,
   "id": "b7485b41",
   "metadata": {},
   "outputs": [],
   "source": [
    "from PIL import Image, ImageOps\n",
    "import os\n",
    "import math\n",
    "\n",
    "# Note: run visulize_tsne_points.py first\n",
    "# Folder containing individual images\n",
    "image_folder = './trafficgen/img'\n",
    "image_files = sorted(os.listdir(image_folder), key=lambda x: int(x.split('.')[0]))\n",
    "\n",
    "# Assuming all images have the same size\n",
    "img = Image.open(os.path.join(image_folder, image_files[0]))\n",
    "img_width, img_height = img.size\n",
    "\n",
    "new_width, new_height = 128, 128\n",
    "border_size = 1\n",
    "adjusted_width = new_width - 2 * border_size\n",
    "adjusted_height = new_height - 2 * border_size\n",
    "\n",
    "# Calculate grid size\n",
    "grid_size = math.ceil(math.sqrt(len(image_files)))\n",
    "sprite_dim = grid_size * new_width\n",
    "\n",
    "# Create an empty sprite image\n",
    "sprite_image = Image.new('RGB', (sprite_dim, sprite_dim), color='white')\n",
    "\n",
    "for index, file in enumerate(image_files):\n",
    "    img = Image.open(os.path.join(image_folder, file))\n",
    "    img = img.resize((adjusted_width, adjusted_height), Image.LANCZOS)\n",
    "    \n",
    "    img_with_border = ImageOps.expand(img, border=border_size, fill='black')\n",
    "\n",
    "    \n",
    "    x = (index % grid_size) * new_width\n",
    "    y = (index // grid_size) * new_height\n",
    "    sprite_image.paste(img_with_border, (x, y))\n",
    "\n",
    "sprite_image.save('sprite_image.png')"
   ]
  },
  {
   "cell_type": "code",
   "execution_count": 1,
   "id": "e125846f",
   "metadata": {},
   "outputs": [],
   "source": [
    "import tensorflow as tf\n",
    "from tensorboard.plugins import projector\n",
    "import numpy as np\n",
    "import os\n",
    "\n",
    "# Load your embeddings and metadata\n",
    "embeddings = np.loadtxt('embeddings.tsv', delimiter='\\t')\n",
    "metadata_file = 'metadata.tsv'  # Path to your metadata.tsv\n",
    "\n",
    "log_dir = 'log/emb'\n",
    "\n",
    "weights = tf.Variable(embeddings, name='embedding')\n",
    "checkpoint = tf.train.Checkpoint(embedding=weights)\n",
    "checkpoint.save(os.path.join(log_dir, \"embedding.ckpt\"))\n",
    "\n",
    "config = projector.ProjectorConfig()\n",
    "embedding = config.embeddings.add()\n",
    "embedding.tensor_name = 'embedding/.ATTRIBUTES/VARIABLE_VALUE'\n",
    "embedding.metadata_path = 'metadata.tsv'\n",
    "embedding.sprite.image_path = 'sprite_image.png'\n",
    "embedding.sprite.single_image_dim.extend([128, 128])\n",
    "projector.visualize_embeddings(log_dir, config)"
   ]
  },
  {
   "cell_type": "code",
   "execution_count": 2,
   "id": "8650470f",
   "metadata": {
    "scrolled": true
   },
   "outputs": [
    {
     "data": {
      "text/html": [
       "\n",
       "      <iframe id=\"tensorboard-frame-4098e266f4b3174a\" width=\"100%\" height=\"800\" frameborder=\"0\">\n",
       "      </iframe>\n",
       "      <script>\n",
       "        (function() {\n",
       "          const frame = document.getElementById(\"tensorboard-frame-4098e266f4b3174a\");\n",
       "          const url = new URL(\"/\", window.location);\n",
       "          const port = 6006;\n",
       "          if (port) {\n",
       "            url.port = port;\n",
       "          }\n",
       "          frame.src = url;\n",
       "        })();\n",
       "      </script>\n",
       "    "
      ],
      "text/plain": [
       "<IPython.core.display.HTML object>"
      ]
     },
     "metadata": {},
     "output_type": "display_data"
    }
   ],
   "source": [
    "%reload_ext tensorboard\n",
    "%tensorboard --logdir log/emb/"
   ]
  }
 ],
 "metadata": {
  "kernelspec": {
   "display_name": "Python 3 (ipykernel)",
   "language": "python",
   "name": "python3"
  },
  "language_info": {
   "codemirror_mode": {
    "name": "ipython",
    "version": 3
   },
   "file_extension": ".py",
   "mimetype": "text/x-python",
   "name": "python",
   "nbconvert_exporter": "python",
   "pygments_lexer": "ipython3",
   "version": "3.8.17"
  }
 },
 "nbformat": 4,
 "nbformat_minor": 5
}
